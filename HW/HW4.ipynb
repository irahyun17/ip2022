{
 "cells": [
  {
   "cell_type": "code",
   "execution_count": 14,
   "metadata": {},
   "outputs": [],
   "source": [
    "import sys\n",
    "import numpy as np\n",
    "import cv2\n",
    "\n",
    "img_names = ['dsu1.jpg', 'dsu2.jpg', 'dsu3.jpg']\n",
    "\n",
    "imgs = []\n",
    "for name in img_names:\n",
    "    img = cv2.imread(name)\n",
    "\n",
    "    if img is None:\n",
    "        print('이미지를 받아올 수 없습니다.')\n",
    "        sys.exit()\n",
    "\n",
    "    imgs.append(img)\n",
    "\n",
    "stitcher=cv2.Stitcher_create()\n",
    "status,dst=stitcher.stitch(imgs)\n",
    "\n",
    "if status != cv2.Stitcher_OK:\n",
    "    print('스티칭을 할 수 없습니다.')\n",
    "    sys.exit()\n",
    "\n",
    "cv2.imwrite('output.jpg',dst)\n",
    "\n",
    "cv2.namedWindow('dst',cv2.WINDOW_NORMAL)\n",
    "cv2.imshow('dst',dst)\n",
    "cv2.waitKey()\n",
    "cv2.destroyAllWindows()"
   ]
  },
  {
   "cell_type": "code",
   "execution_count": null,
   "metadata": {},
   "outputs": [],
   "source": []
  }
 ],
 "metadata": {
  "kernelspec": {
   "display_name": "Python 3.8.13 ('opencv')",
   "language": "python",
   "name": "python3"
  },
  "language_info": {
   "codemirror_mode": {
    "name": "ipython",
    "version": 3
   },
   "file_extension": ".py",
   "mimetype": "text/x-python",
   "name": "python",
   "nbconvert_exporter": "python",
   "pygments_lexer": "ipython3",
   "version": "3.8.13"
  },
  "orig_nbformat": 4,
  "vscode": {
   "interpreter": {
    "hash": "bf6eb1b8655bfb5db28bae5e4a450551f852bb89152c1f43ef5b6975ae58f7f2"
   }
  }
 },
 "nbformat": 4,
 "nbformat_minor": 2
}
