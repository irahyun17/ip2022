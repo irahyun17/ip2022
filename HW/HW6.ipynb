{
 "cells": [
  {
   "cell_type": "code",
   "execution_count": null,
   "metadata": {},
   "outputs": [],
   "source": [
    "import cv2 \n",
    "import matplotlib.pyplot as plt\n",
    "import time\n",
    "\n",
    "sift = cv2.SIFT_create()\n",
    "bf = cv2.BFMatcher(cv2.NORM_L2, crossCheck=True)\n",
    "cap = cv2.VideoCapture(0)\n",
    "\n",
    "while cap.isOpened():\n",
    "\n",
    "    suc, img1 = cap.read()\n",
    "    img2 = cv2.imread(\"books.jpg\", cv2.IMREAD_GRAYSCALE)\n",
    "    start = time.time()\n",
    "    img1 = cv2.cvtColor(img1, cv2.COLOR_BGR2GRAY)\n",
    "    img2 = cv2.cvtColor(img2, cv2.COLOR_BGR2GRAY)\n",
    "\n",
    "    keypoints_1, descriptors_1 = sift.detectAndCompute(img1,None)\n",
    "    keypoints_2, descriptors_2 = sift.detectAndCompute(img2,None)\n",
    "\n",
    "    matches = bf.match(descriptors_1,descriptors_2)\n",
    "    matches = sorted(matches, key = lambda x:x.distance)\n",
    "\n",
    "    end = time.time()\n",
    "    totalTime = end - start\n",
    "    fps = 1 / totalTime\n",
    "    img3 = cv2.drawMatches(img1, keypoints_1, img2, keypoints_2, matches[:300], img2, flags=2)\n",
    "    cv2.putText(img3, f'FPS: {int(fps)}', (20,450), cv2.FONT_HERSHEY_SIMPLEX, 1.5, (0,255,0), 2)\n",
    "    cv2.imshow('SIFT', img3)\n",
    "\n",
    "    if cv2.waitKey(5) & 0xFF == 27:\n",
    "        break"
   ]
  }
 ],
 "metadata": {
  "language_info": {
   "name": "python"
  },
  "orig_nbformat": 4
 },
 "nbformat": 4,
 "nbformat_minor": 2
}
