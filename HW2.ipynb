{
 "cells": [
  {
   "cell_type": "code",
   "execution_count": 4,
   "metadata": {},
   "outputs": [],
   "source": [
    "import cv2\n",
    "import numpy as np\n",
    "cap = cv2.VideoCapture(0)\n",
    "while(1):\n",
    "    _, frame = cap.read()\n",
    "    hsv = cv2.cvtColor(frame, cv2.COLOR_BGR2HSV)\n",
    "    lower_blue = np.array([100,100,100]) #파란색\n",
    "    upper_blue = np.array([130,255,255])\n",
    "    lower_red = np.array([-30,100,100]) # 빨간색\n",
    "    upper_red = np.array([30,255,255])\n",
    "    \n",
    "\n",
    "    bluemask = cv2.inRange(hsv, lower_blue, upper_blue)\n",
    "    redmask = cv2.inRange(hsv, lower_red, upper_red)\n",
    "    blueres = cv2.bitwise_and(frame,frame, mask= bluemask)\n",
    "    redres = cv2.bitwise_and(frame,frame, mask= redmask)\n",
    "\n",
    "    cv2.imshow('frame',frame)\n",
    "    cv2.imshow('blue',blueres)\n",
    "    cv2.imshow('red',redres)\n",
    "    k = cv2.waitKey(5) & 0xFF\n",
    "    if k == 27:\n",
    "        break\n",
    "\n",
    "cv2.destroyAllWindows()\n",
    "\n",
    "\n"
   ]
  },
  {
   "cell_type": "code",
   "execution_count": null,
   "metadata": {},
   "outputs": [],
   "source": []
  }
 ],
 "metadata": {
  "kernelspec": {
   "display_name": "Python 3.8.13 ('opencv')",
   "language": "python",
   "name": "python3"
  },
  "language_info": {
   "codemirror_mode": {
    "name": "ipython",
    "version": 3
   },
   "file_extension": ".py",
   "mimetype": "text/x-python",
   "name": "python",
   "nbconvert_exporter": "python",
   "pygments_lexer": "ipython3",
   "version": "3.8.13"
  },
  "orig_nbformat": 4,
  "vscode": {
   "interpreter": {
    "hash": "bf6eb1b8655bfb5db28bae5e4a450551f852bb89152c1f43ef5b6975ae58f7f2"
   }
  }
 },
 "nbformat": 4,
 "nbformat_minor": 2
}
